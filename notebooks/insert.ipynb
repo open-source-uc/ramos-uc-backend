{
 "cells": [
  {
   "cell_type": "code",
   "execution_count": 1,
   "metadata": {},
   "outputs": [],
   "source": [
    "import json\n",
    "from pymongo import MongoClient\n",
    "from dotenv import load_dotenv\n",
    "import os\n",
    "\n",
    "load_dotenv()\n",
    "\n",
    "MONGO_DB_NAME = os.getenv(\"MONGO_DB_NAME\", None)\n",
    "MONGO_DB_URI = os.getenv(\"MONGO_DB_URI\", None)\n",
    "\n",
    "assert MONGO_DB_NAME is not None, \"DATABASE_NAME is not set\"\n",
    "assert MONGO_DB_URI is not None, \"MONGO_DB_URI is not set\"\n",
    "\n",
    "client = MongoClient(MONGO_DB_URI)\n",
    "db = client[MONGO_DB_NAME]\n",
    "ramos_collection = db[\"ramos\"]\n",
    "ratings_collection = db[\"ratings\"]\n",
    "\n",
    "with open(\"./ofg.json\", 'r') as f:\n",
    "    data = json.load(f)\n",
    "\n",
    "if isinstance(data, list):\n",
    "    for ramo_obj in data:\n",
    "        result = ramos_collection.insert_one(ramo_obj)\n",
    "else:\n",
    "    print(\"El archivo JSON no contiene un array de objetos.\")\n"
   ]
  }
 ],
 "metadata": {
  "kernelspec": {
   "display_name": "py_modules",
   "language": "python",
   "name": "python3"
  },
  "language_info": {
   "codemirror_mode": {
    "name": "ipython",
    "version": 3
   },
   "file_extension": ".py",
   "mimetype": "text/x-python",
   "name": "python",
   "nbconvert_exporter": "python",
   "pygments_lexer": "ipython3",
   "version": "3.10.12"
  }
 },
 "nbformat": 4,
 "nbformat_minor": 2
}
